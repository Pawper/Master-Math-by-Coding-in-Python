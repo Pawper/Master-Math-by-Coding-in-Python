{
 "metadata": {
  "language_info": {
   "codemirror_mode": {
    "name": "ipython",
    "version": 3
   },
   "file_extension": ".py",
   "mimetype": "text/x-python",
   "name": "python",
   "nbconvert_exporter": "python",
   "pygments_lexer": "ipython3",
   "version": "3.8.5-final"
  },
  "orig_nbformat": 2,
  "kernelspec": {
   "name": "python3",
   "display_name": "Python 3",
   "language": "python"
  }
 },
 "nbformat": 4,
 "nbformat_minor": 2,
 "cells": [
  {
   "cell_type": "code",
   "execution_count": 2,
   "metadata": {},
   "outputs": [],
   "source": [
    "# the distance from zero\n",
    "# abs(x)\n",
    "# |x|"
   ]
  },
  {
   "cell_type": "code",
   "execution_count": 4,
   "metadata": {},
   "outputs": [
    {
     "output_type": "execute_result",
     "data": {
      "text/plain": [
       "(-4, 4)"
      ]
     },
     "metadata": {},
     "execution_count": 4
    }
   ],
   "source": [
    "a = -4\n",
    "b = abs(a)\n",
    "a, b"
   ]
  },
  {
   "cell_type": "code",
   "execution_count": 7,
   "metadata": {},
   "outputs": [
    {
     "output_type": "display_data",
     "data": {
      "text/plain": "<IPython.core.display.Math object>",
      "text/latex": "$\\displaystyle |-4.3| = 4.3$"
     },
     "metadata": {}
    }
   ],
   "source": [
    "from IPython.display import display,Math\n",
    "\n",
    "x = -4.3\n",
    "\n",
    "display(Math('|%g| = %g' %(x, abs(x))))"
   ]
  },
  {
   "cell_type": "code",
   "execution_count": 10,
   "metadata": {},
   "outputs": [
    {
     "output_type": "stream",
     "name": "stdout",
     "text": [
      "-4 was not tested.\nAbsolute value of 6 is 6\n-1 was not tested.\nAbsolute value of 43 is 43\nAbsolute value of -18 is 18\n2 was not tested.\n0 was not tested.\n"
     ]
    }
   ],
   "source": [
    "numbers = [-4, 6, -1, 43, -18, 2, 0]\n",
    "\n",
    "for number in numbers:\n",
    "    print(f'Absolute value of {number} is {abs(number)}' if (number < -5 or number > 2) else f'{number} was not tested.')"
   ]
  },
  {
   "cell_type": "code",
   "execution_count": 12,
   "metadata": {},
   "outputs": [
    {
     "output_type": "stream",
     "name": "stdout",
     "text": [
      "-4 was not tested.\nAbsolute value of 6 is 6.\n-1 was not tested.\nAbsolute value of 43 is 43.\nAbsolute value of -18 is 18.\n2 was not tested.\n0 was not tested.\n"
     ]
    }
   ],
   "source": [
    "numbers = [-4, 6, -1, 43, -18, 2, 0]\n",
    "\n",
    "# for-loop over the numers\n",
    "for numi in  numbers:\n",
    "    if numi < -5 or numi > 2:\n",
    "        print('Absolute value of %g is %g.' %(numi, abs(numi)))\n",
    "    else:\n",
    "        print( str(numi) + ' was not tested.')"
   ]
  }
 ]
}