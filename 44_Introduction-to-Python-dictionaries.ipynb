{
 "metadata": {
  "language_info": {
   "codemirror_mode": {
    "name": "ipython",
    "version": 3
   },
   "file_extension": ".py",
   "mimetype": "text/x-python",
   "name": "python",
   "nbconvert_exporter": "python",
   "pygments_lexer": "ipython3",
   "version": "3.8.5-final"
  },
  "orig_nbformat": 2,
  "kernelspec": {
   "name": "python3",
   "display_name": "Python 3",
   "language": "python"
  }
 },
 "nbformat": 4,
 "nbformat_minor": 2,
 "cells": [
  {
   "cell_type": "code",
   "execution_count": 2,
   "metadata": {},
   "outputs": [
    {
     "output_type": "stream",
     "name": "stdout",
     "text": [
      "{'fruit': ['banana', 'apple'], 'numbers': [1, 3, 4, 7]}\n"
     ]
    }
   ],
   "source": [
    "D = dict(fruit=['banana', 'apple'], numbers=[1,3,4,7])\n",
    "\n",
    "print(D)"
   ]
  },
  {
   "cell_type": "code",
   "execution_count": 7,
   "metadata": {},
   "outputs": [
    {
     "output_type": "execute_result",
     "data": {
      "text/plain": [
       "['banana', 'apple']"
      ]
     },
     "metadata": {},
     "execution_count": 7
    }
   ],
   "source": [
    "D.get('fruit')"
   ]
  },
  {
   "cell_type": "code",
   "execution_count": 10,
   "metadata": {},
   "outputs": [
    {
     "output_type": "stream",
     "name": "stdout",
     "text": [
      "['banana', 'apple']\n[1, 3, 4, 7]\n"
     ]
    }
   ],
   "source": [
    "for key in D:\n",
    "    print(D[key])"
   ]
  },
  {
   "cell_type": "code",
   "execution_count": 62,
   "metadata": {},
   "outputs": [
    {
     "output_type": "stream",
     "name": "stdout",
     "text": [
      "Equations solving for X:\n"
     ]
    },
    {
     "output_type": "display_data",
     "data": {
      "text/plain": "<IPython.core.display.Math object>",
      "text/latex": "$\\displaystyle 4 x - 6=0\\quad \\Rightarrow \\quad {X}=\\left[ \\frac{3}{2}\\right]$"
     },
     "metadata": {}
    },
    {
     "output_type": "display_data",
     "data": {
      "text/plain": "<IPython.core.display.Math object>",
      "text/latex": "$\\displaystyle x^{2} - 9=0\\quad \\Rightarrow \\quad {X}=\\left[ -3, \\  3\\right]$"
     },
     "metadata": {}
    },
    {
     "output_type": "stream",
     "name": "stdout",
     "text": [
      "Equations solving for Y:\n"
     ]
    },
    {
     "output_type": "display_data",
     "data": {
      "text/plain": "<IPython.core.display.Math object>",
      "text/latex": "$\\displaystyle \\sin{\\left(y \\right)}=0\\quad \\Rightarrow \\quad {Y}=\\left[ 0, \\  \\pi\\right]$"
     },
     "metadata": {}
    }
   ],
   "source": [
    "# exercise\n",
    "import sympy as sym\n",
    "from IPython.display import display,Math\n",
    "\n",
    "x,y = sym.symbols('x,y')\n",
    "\n",
    "x1_lhs = 4 * x\n",
    "x1_rhs = 6\n",
    "x2_lhs = x**2\n",
    "x2_rhs = 9\n",
    "y1_lhs = sym.sin(y)\n",
    "y1_rhs = 0\n",
    "equations = {\n",
    "    'for_x': {\n",
    "        'description': 'Equations solving for X:',\n",
    "        'equations': [\n",
    "            {'lhs': x1_lhs, 'rhs': x1_rhs},\n",
    "            {'lhs': x2_lhs, 'rhs': x2_rhs}\n",
    "        ]\n",
    "    },\n",
    "    'for_y': {\n",
    "        'description': 'Equations solving for Y:',\n",
    "        'equations': [\n",
    "            {'lhs': y1_lhs, 'rhs': y1_rhs}\n",
    "        ]\n",
    "    }\n",
    "}\n",
    "\n",
    "for i in equations:\n",
    "    print(equations[i]['description'])\n",
    "    for j in equations[i]['equations']:\n",
    "        expr = j['lhs']-j['rhs']\n",
    "\n",
    "        eq = sym.latex(expr) + '=0'\n",
    "        arrow = '\\\\quad \\\\Rightarrow \\\\quad '\n",
    "        symbol = str(expr.free_symbols).upper()\n",
    "        solution = sym.latex(sym.solve(expr))\n",
    "\n",
    "        display(Math(eq + arrow + symbol + '=' + solution))"
   ]
  }
 ]
}