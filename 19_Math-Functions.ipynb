{
 "metadata": {
  "language_info": {
   "codemirror_mode": {
    "name": "ipython",
    "version": 3
   },
   "file_extension": ".py",
   "mimetype": "text/x-python",
   "name": "python",
   "nbconvert_exporter": "python",
   "pygments_lexer": "ipython3",
   "version": "3.8.5-final"
  },
  "orig_nbformat": 2,
  "kernelspec": {
   "name": "python3",
   "display_name": "Python 3",
   "language": "python"
  }
 },
 "nbformat": 4,
 "nbformat_minor": 2,
 "cells": [
  {
   "cell_type": "code",
   "execution_count": 6,
   "metadata": {},
   "outputs": [],
   "source": [
    "def my_function(name):\n",
    "    print('Hello %s.' %name)"
   ]
  },
  {
   "cell_type": "code",
   "execution_count": 7,
   "metadata": {},
   "outputs": [
    {
     "output_type": "stream",
     "name": "stdout",
     "text": [
      "Hello Phillip.\n"
     ]
    }
   ],
   "source": [
    "my_function('Phillip')"
   ]
  },
  {
   "cell_type": "code",
   "execution_count": 8,
   "metadata": {},
   "outputs": [
    {
     "output_type": "execute_result",
     "data": {
      "text/plain": [
       "3"
      ]
     },
     "metadata": {},
     "execution_count": 8
    }
   ],
   "source": [
    "int(3.2)"
   ]
  },
  {
   "cell_type": "code",
   "execution_count": 10,
   "metadata": {},
   "outputs": [],
   "source": [
    "def compute_remainder(x, y):\n",
    "    divis = int(x / y)\n",
    "    remainder = x % y\n",
    "\n",
    "    print('%g goes into %g, %g times with a remainder of %g' %(y, x, divis, remainder))"
   ]
  },
  {
   "cell_type": "code",
   "execution_count": 13,
   "metadata": {},
   "outputs": [
    {
     "output_type": "stream",
     "name": "stdout",
     "text": [
      "6 goes into 100, 16 times with a remainder of 4\n"
     ]
    }
   ],
   "source": [
    "compute_remainder(100, 6)"
   ]
  },
  {
   "cell_type": "code",
   "execution_count": 18,
   "metadata": {},
   "outputs": [
    {
     "output_type": "execute_result",
     "data": {
      "text/plain": [
       "int"
      ]
     },
     "metadata": {},
     "execution_count": 18
    }
   ],
   "source": [
    "a = int( input('input a number '))\n",
    "type(a)"
   ]
  },
  {
   "cell_type": "code",
   "execution_count": 19,
   "metadata": {},
   "outputs": [
    {
     "output_type": "execute_result",
     "data": {
      "text/plain": [
       "68.2"
      ]
     },
     "metadata": {},
     "execution_count": 19
    }
   ],
   "source": [
    "a + 3.2"
   ]
  },
  {
   "cell_type": "code",
   "execution_count": 26,
   "metadata": {},
   "outputs": [],
   "source": [
    "def division_with_input():\n",
    "    x = int(input('Input the numerator:'))\n",
    "    y = int(input('Input the denominator:'))\n",
    "\n",
    "    divis = int(x / y)\n",
    "    remainder = x%y\n",
    "\n",
    "    print('%g goes into %g, %g times with a remainder of %g' %(y, x, divis, remainder))"
   ]
  },
  {
   "cell_type": "code",
   "execution_count": 28,
   "metadata": {},
   "outputs": [
    {
     "output_type": "stream",
     "name": "stdout",
     "text": [
      "4 goes into 2, 0 times with a remainder of 2\n"
     ]
    }
   ],
   "source": [
    "division_with_input()"
   ]
  },
  {
   "cell_type": "code",
   "execution_count": 50,
   "metadata": {},
   "outputs": [],
   "source": [
    "from IPython.display import display,Math\n",
    "def compute_exponent(x, y):\n",
    "    answer = x ** y\n",
    "    display(Math('%g^{%g}=%g' %(x, y, answer)))\n",
    "def compute_division(x, y):\n",
    "    answer = x / y\n",
    "    display(Math('\\\\frac{%g}{%g}=%g' %(x, y, answer)))\n",
    "def user_input_with_switch():\n",
    "    x = int(input('Input X: '))\n",
    "    y = int(input('Input Y: '))\n",
    "    display(Math('\\\\text{Press \"1\" to compute }%g^{%g}\\\\text{ or \"2\" to compute }\\\\frac{%g}{%g}' %(x, y, x, y)))\n",
    "    switch_selection = int(input(' '))\n",
    "    if switch_selection not in [1,2]:\n",
    "        print(\"Invalid selection!\")\n",
    "    else:\n",
    "        if switch_selection == 1:\n",
    "            compute_exponent(x, y)\n",
    "        else:\n",
    "            compute_division(x, y)"
   ]
  },
  {
   "cell_type": "code",
   "execution_count": 51,
   "metadata": {},
   "outputs": [
    {
     "output_type": "display_data",
     "data": {
      "text/plain": "<IPython.core.display.Math object>",
      "text/latex": "$\\displaystyle \\text{Press \"1\" to compute }2^{4}\\text{ or \"2\" to compute }\\frac{2}{4}$"
     },
     "metadata": {}
    },
    {
     "output_type": "display_data",
     "data": {
      "text/plain": "<IPython.core.display.Math object>",
      "text/latex": "$\\displaystyle \\frac{2}{4}=0.5$"
     },
     "metadata": {}
    }
   ],
   "source": [
    "user_input_with_switch()"
   ]
  },
  {
   "cell_type": "code",
   "execution_count": 57,
   "metadata": {},
   "outputs": [],
   "source": [
    "# create the functions\n",
    "\n",
    "def powers(x,y):\n",
    "    display(Math('%g^{%g} = %g' %(x,y,x**y)))\n",
    "\n",
    "def division(x,y):\n",
    "    display(Math('\\\\frac{%g}{%g}= %g' %(x,y, x/y)))\n",
    "\n",
    "def main_function():\n",
    "    # get input from user\n",
    "    x = int( input('Input X:'))\n",
    "    y = int( input('Input Y:'))\n",
    "\n",
    "    display(Math('\\\\text{Press \"1\" to compute }%g^{%g}\\\\text{ or press \"2\" to compute }\\\\frac{%g}{%g}' %(x, y, x, y)))\n",
    "    switch = input(' ')\n",
    "\n",
    "    if switch=='1':\n",
    "        power(x,y)\n",
    "    elif switch=='2':\n",
    "        division(x,y)\n",
    "    else:\n",
    "        print(\"Invalid selection!\")"
   ]
  },
  {
   "cell_type": "code",
   "execution_count": 62,
   "metadata": {},
   "outputs": [
    {
     "output_type": "display_data",
     "data": {
      "text/plain": "<IPython.core.display.Math object>",
      "text/latex": "$\\displaystyle \\text{Press \"1\" to compute }2^{4}\\text{ or press \"2\" to compute }\\frac{2}{4}$"
     },
     "metadata": {}
    },
    {
     "output_type": "display_data",
     "data": {
      "text/plain": "<IPython.core.display.Math object>",
      "text/latex": "$\\displaystyle \\frac{2}{4}= 0.5$"
     },
     "metadata": {}
    }
   ],
   "source": [
    "main_function()"
   ]
  },
  {
   "cell_type": "code",
   "execution_count": 67,
   "metadata": {},
   "outputs": [],
   "source": [
    "from numpy import random\n",
    "\n",
    "def guessTheNumber():\n",
    "    right_number = random.randint(1, 100)\n",
    "    guess = int(input('Guess a number between 1 and 100 '))\n",
    "    while guess != right_number:\n",
    "        if guess < right_number:\n",
    "            print('%g - Guess higher!' %guess)\n",
    "        else:\n",
    "            print('%g - Guess lower!' %guess)\n",
    "        guess = int(input('Guess again '))\n",
    "    print('Got it! The right number was %g and your final guess was %g' %(right_number, guess))"
   ]
  },
  {
   "cell_type": "code",
   "execution_count": 68,
   "metadata": {},
   "outputs": [
    {
     "output_type": "stream",
     "name": "stdout",
     "text": [
      "50 - Guess lower!\n",
      "20 - Guess lower!\n",
      "10 - Guess lower!\n",
      "5 - Guess higher!\n",
      "8 - Guess lower!\n",
      "7 - Guess lower!\n",
      "Got it! The right number was 6 and your final guess was 6\n"
     ]
    }
   ],
   "source": [
    "guessTheNumber()"
   ]
  },
  {
   "cell_type": "code",
   "execution_count": 70,
   "metadata": {},
   "outputs": [],
   "source": [
    "# function deifnition (no inputs necessary)\n",
    "def guessTheNumber2():\n",
    "\n",
    "    # generate a random integer\n",
    "    num2guess = random.randint(1,101)\n",
    "\n",
    "    # ask the user for a guess\n",
    "    userguess = int( input('Guess a number between 1 and 100: '))\n",
    "\n",
    "    # check whether the number is a match\n",
    "    while userguess!=num2guess:\n",
    "\n",
    "        # print informative message and ask for another guess\n",
    "        if userguess<num2guess:\n",
    "            print('Guess higher!')\n",
    "        elif userguess>num2guess:\n",
    "            print('Guess lower!')\n",
    "\n",
    "        userguess = int( input('Guess again: '))\n",
    "\n",
    "    # if the guess is correct, congratulate the user!\n",
    "    print('YES!! You guessed correctly!')"
   ]
  },
  {
   "cell_type": "code",
   "execution_count": 71,
   "metadata": {},
   "outputs": [
    {
     "output_type": "stream",
     "name": "stdout",
     "text": [
      "Guess higher!\n",
      "Guess higher!\n",
      "Guess lower!\n",
      "Guess higher!\n",
      "Guess lower!\n",
      "Guess higher!\n",
      "YES!! You guessed correctly!\n"
     ]
    }
   ],
   "source": [
    "guessTheNumber2()"
   ]
  }
 ]
}