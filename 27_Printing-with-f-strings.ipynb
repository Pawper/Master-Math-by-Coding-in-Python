{
 "metadata": {
  "language_info": {
   "codemirror_mode": {
    "name": "ipython",
    "version": 3
   },
   "file_extension": ".py",
   "mimetype": "text/x-python",
   "name": "python",
   "nbconvert_exporter": "python",
   "pygments_lexer": "ipython3",
   "version": "3.8.5-final"
  },
  "orig_nbformat": 2,
  "kernelspec": {
   "name": "python3",
   "display_name": "Python 3",
   "language": "python"
  }
 },
 "nbformat": 4,
 "nbformat_minor": 2,
 "cells": [
  {
   "cell_type": "code",
   "execution_count": 2,
   "metadata": {},
   "outputs": [],
   "source": [
    "import sympy as sym\n",
    "from IPython.display import display, Math"
   ]
  },
  {
   "cell_type": "code",
   "execution_count": 4,
   "metadata": {},
   "outputs": [
    {
     "output_type": "stream",
     "name": "stdout",
     "text": [
      "Hi my name is Mike and I eat 7 chocaltes every day!!\n"
     ]
    }
   ],
   "source": [
    "# f-strings\n",
    "\n",
    "svar = 'Mike'\n",
    "nvar = 7\n",
    "\n",
    "print(f'Hi my name is {svar} and I eat {nvar} chocaltes every day!!')"
   ]
  },
  {
   "cell_type": "code",
   "execution_count": 12,
   "metadata": {},
   "outputs": [
    {
     "output_type": "display_data",
     "data": {
      "text/plain": "<IPython.core.display.Math object>",
      "text/latex": "$\\displaystyle \\frac{\\frac{3}{x}}{y}$"
     },
     "metadata": {}
    },
    {
     "output_type": "display_data",
     "data": {
      "text/plain": "<IPython.core.display.Math object>",
      "text/latex": "$\\displaystyle \\frac{\\frac{3}{x}}{y}$"
     },
     "metadata": {}
    }
   ],
   "source": [
    "x,y = sym.symbols('x,y')\n",
    "\n",
    "expr = 3/x\n",
    "\n",
    "display(Math(f'\\\\frac{{{sym.latex(expr)}}}{{{y}}}')) # you need 3 curly brackets with f strings\n",
    "display(Math('\\\\frac{%s}{%s}'%(sym.latex(expr),y)))"
   ]
  }
 ]
}