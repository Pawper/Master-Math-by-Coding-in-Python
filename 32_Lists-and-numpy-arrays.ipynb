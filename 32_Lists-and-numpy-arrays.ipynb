{
 "metadata": {
  "language_info": {
   "codemirror_mode": {
    "name": "ipython",
    "version": 3
   },
   "file_extension": ".py",
   "mimetype": "text/x-python",
   "name": "python",
   "nbconvert_exporter": "python",
   "pygments_lexer": "ipython3",
   "version": "3.8.5-final"
  },
  "orig_nbformat": 2,
  "kernelspec": {
   "name": "python3",
   "display_name": "Python 3",
   "language": "python"
  }
 },
 "nbformat": 4,
 "nbformat_minor": 2,
 "cells": [
  {
   "cell_type": "code",
   "execution_count": 1,
   "metadata": {},
   "outputs": [],
   "source": [
    "import numpy as np"
   ]
  },
  {
   "cell_type": "code",
   "execution_count": 3,
   "metadata": {},
   "outputs": [],
   "source": [
    "# lists\n",
    "# numpy arrays"
   ]
  },
  {
   "cell_type": "code",
   "execution_count": 4,
   "metadata": {},
   "outputs": [
    {
     "output_type": "execute_result",
     "data": {
      "text/plain": [
       "list"
      ]
     },
     "metadata": {},
     "execution_count": 4
    }
   ],
   "source": [
    "aList = [0,1,2,3,4,5]\n",
    "type(aList)"
   ]
  },
  {
   "cell_type": "code",
   "execution_count": 5,
   "metadata": {},
   "outputs": [
    {
     "output_type": "execute_result",
     "data": {
      "text/plain": [
       "[3, ['3', '4', '5'], 5.5, [4, 5, 6]]"
      ]
     },
     "metadata": {},
     "execution_count": 5
    }
   ],
   "source": [
    "listList = [ 3,['3','4','5'],5.5,[4,5,6]]\n",
    "listList"
   ]
  },
  {
   "cell_type": "code",
   "execution_count": 7,
   "metadata": {},
   "outputs": [
    {
     "output_type": "execute_result",
     "data": {
      "text/plain": [
       "[3, ['3', '4', '5'], 5.5, [4, 5, 6]]"
      ]
     },
     "metadata": {},
     "execution_count": 7
    }
   ],
   "source": [
    "listList = [\n",
    "    3,              # a number\n",
    "    ['3','4','5'],  # a list of strings\n",
    "    5.5,            # another flaot number\n",
    "    [4,5,6]\n",
    "    ]\n",
    "listList"
   ]
  },
  {
   "cell_type": "code",
   "execution_count": 12,
   "metadata": {},
   "outputs": [
    {
     "output_type": "stream",
     "name": "stdout",
     "text": [
      "[0, 1, 2, 3, 4, 5, 0, 1, 2, 3, 4, 5, 0, 1, 2, 3, 4, 5]\n[0, 3, 6, 9, 12, 15]\n"
     ]
    }
   ],
   "source": [
    "aList = [0,1,2,3,4,5]\n",
    "sList = ['0','1','2','3','4','5']\n",
    "\n",
    "print(aList * 3) # just concatenates\n",
    "print([number * 3 for number in aList]) # list comprehension method"
   ]
  },
  {
   "cell_type": "code",
   "execution_count": 14,
   "metadata": {},
   "outputs": [
    {
     "output_type": "stream",
     "name": "stdout",
     "text": [
      "<class 'list'>\n[0, 1, 2, 3, 4, 5]\n<class 'numpy.ndarray'>\n[0 1 2 3 4 5]\n"
     ]
    }
   ],
   "source": [
    "aList_np = np.array(aList)\n",
    "print(type(aList))\n",
    "print(aList)\n",
    "print(type(aList_np))\n",
    "print(aList_np)"
   ]
  },
  {
   "cell_type": "code",
   "execution_count": 15,
   "metadata": {},
   "outputs": [
    {
     "output_type": "execute_result",
     "data": {
      "text/plain": [
       "array([ 0,  3,  6,  9, 12, 15])"
      ]
     },
     "metadata": {},
     "execution_count": 15
    }
   ],
   "source": [
    "aList_np * 3 # does the same thing as list comprehension"
   ]
  },
  {
   "cell_type": "code",
   "execution_count": 17,
   "metadata": {},
   "outputs": [
    {
     "output_type": "execute_result",
     "data": {
      "text/plain": [
       "[0, 1, 2, 3, 4, 5, 3]"
      ]
     },
     "metadata": {},
     "execution_count": 17
    }
   ],
   "source": [
    "aList + [3] # you can't concatenate ints with lists, only another list"
   ]
  },
  {
   "cell_type": "code",
   "execution_count": 27,
   "metadata": {},
   "outputs": [
    {
     "output_type": "stream",
     "name": "stdout",
     "text": [
      "List element 0 is 3 and is of type <class 'int'>.\nList element 1 is ['3', '4', '5'] and is of type <class 'list'>.\nList element 2 is 5.5 and is of type <class 'float'>.\nList element 3 is [4, 5, 6] and is of type <class 'list'>.\n"
     ]
    }
   ],
   "source": [
    "# my solution\n",
    "index = 0\n",
    "for element in listList:\n",
    "    print(f'List element {index} is {element} and is of type {type(element)}.')\n",
    "    index += 1"
   ]
  },
  {
   "cell_type": "code",
   "execution_count": 28,
   "metadata": {},
   "outputs": [
    {
     "output_type": "stream",
     "name": "stdout",
     "text": [
      "List element 0 is 3 and is of type <class 'list'>.\nList element 1 is ['3', '4', '5'] and is of type <class 'list'>.\nList element 2 is 5.5 and is of type <class 'list'>.\nList element 3 is [4, 5, 6] and is of type <class 'list'>.\n"
     ]
    }
   ],
   "source": [
    "for item in range(len(listList)):\n",
    "    print(f'List element {item} is {listList[item]} and is of type {type(element)}.')"
   ]
  },
  {
   "cell_type": "code",
   "execution_count": 29,
   "metadata": {},
   "outputs": [
    {
     "output_type": "stream",
     "name": "stdout",
     "text": [
      "0 M\n1 i\n2 k\n3 e\n"
     ]
    }
   ],
   "source": [
    "s = 'Mike'\n",
    "for i,letter in enumerate(s):\n",
    "    print(i,letter)"
   ]
  },
  {
   "cell_type": "code",
   "execution_count": 30,
   "metadata": {},
   "outputs": [
    {
     "output_type": "stream",
     "name": "stdout",
     "text": [
      "List element 0 is 3 and is of type <class 'list'>.\nList element 1 is ['3', '4', '5'] and is of type <class 'list'>.\nList element 2 is 5.5 and is of type <class 'list'>.\nList element 3 is [4, 5, 6] and is of type <class 'list'>.\n"
     ]
    }
   ],
   "source": [
    "for idx,item in enumerate(listList):\n",
    "    print(f'List element {idx} is {item} and is of type {type(element)}.')"
   ]
  },
  {
   "cell_type": "code",
   "execution_count": 26,
   "metadata": {},
   "outputs": [
    {
     "output_type": "stream",
     "name": "stdout",
     "text": [
      "List element 0 is 3 and is of type int.\nList element 1 is ['3', '4', '5'] and is of type list.\nList element 2 is 5.5 and is of type float.\nList element 3 is [4, 5, 6] and is of type list.\n"
     ]
    }
   ],
   "source": [
    "# my solution\r\n",
    "index = 0\r\n",
    "for element in listList:\r\n",
    "    print(f'List element {index} is {element} and is of type {element.__class__.__name__}.')\r\n",
    "    index += 1"
   ]
  },
  {
   "cell_type": "code",
   "execution_count": 35,
   "metadata": {},
   "outputs": [
    {
     "output_type": "stream",
     "name": "stdout",
     "text": [
      "List element 3 is 3 and is of type int.\nList element 3 is ['3', '4', '5'] and is of type list.\nList element 3 is 5.5 and is of type float.\nList element 3 is [4, 5, 6] and is of type list.\n"
     ]
    }
   ],
   "source": [
    "for ix, item in enumerate(listList):\n",
    "    t = str(type(item))[8:]\n",
    "    apost = t.find(\"'\")\n",
    "    print(f'List element {idx} is {item} and is of type {t[:apost]}.')"
   ]
  }
 ]
}