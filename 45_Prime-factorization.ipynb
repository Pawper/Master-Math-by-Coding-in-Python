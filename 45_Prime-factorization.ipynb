{
 "metadata": {
  "language_info": {
   "codemirror_mode": {
    "name": "ipython",
    "version": 3
   },
   "file_extension": ".py",
   "mimetype": "text/x-python",
   "name": "python",
   "nbconvert_exporter": "python",
   "pygments_lexer": "ipython3",
   "version": "3.8.5-final"
  },
  "orig_nbformat": 2,
  "kernelspec": {
   "name": "python3",
   "display_name": "Python 3",
   "language": "python"
  }
 },
 "nbformat": 4,
 "nbformat_minor": 2,
 "cells": [
  {
   "cell_type": "code",
   "execution_count": 1,
   "metadata": {},
   "outputs": [],
   "source": [
    "import sympy as sym"
   ]
  },
  {
   "cell_type": "code",
   "execution_count": 9,
   "metadata": {},
   "outputs": [
    {
     "output_type": "execute_result",
     "data": {
      "text/plain": [
       "{7: 1}"
      ]
     },
     "metadata": {},
     "execution_count": 9
    }
   ],
   "source": [
    "number = 7\n",
    "\n",
    "fact_dict = sym.factorint(number)\n",
    "\n",
    "fact_dict"
   ]
  },
  {
   "cell_type": "code",
   "execution_count": 17,
   "metadata": {},
   "outputs": [
    {
     "output_type": "stream",
     "name": "stdout",
     "text": [
      "2 is a prime number\n3 is a prime number\n4 is a composite number with prime factors [2]\n5 is a prime number\n6 is a composite number with prime factors [2, 3]\n7 is a prime number\n8 is a composite number with prime factors [2]\n9 is a composite number with prime factors [3]\n10 is a composite number with prime factors [2, 5]\n11 is a prime number\n12 is a composite number with prime factors [2, 3]\n13 is a prime number\n14 is a composite number with prime factors [2, 7]\n15 is a composite number with prime factors [3, 5]\n16 is a composite number with prime factors [2]\n17 is a prime number\n18 is a composite number with prime factors [2, 3]\n19 is a prime number\n20 is a composite number with prime factors [2, 5]\n21 is a composite number with prime factors [3, 7]\n22 is a composite number with prime factors [2, 11]\n23 is a prime number\n24 is a composite number with prime factors [2, 3]\n25 is a composite number with prime factors [5]\n26 is a composite number with prime factors [2, 13]\n27 is a composite number with prime factors [3]\n28 is a composite number with prime factors [2, 7]\n29 is a prime number\n30 is a composite number with prime factors [2, 3, 5]\n31 is a prime number\n32 is a composite number with prime factors [2]\n33 is a composite number with prime factors [3, 11]\n34 is a composite number with prime factors [2, 17]\n35 is a composite number with prime factors [5, 7]\n36 is a composite number with prime factors [2, 3]\n37 is a prime number\n38 is a composite number with prime factors [2, 19]\n39 is a composite number with prime factors [3, 13]\n40 is a composite number with prime factors [2, 5]\n41 is a prime number\n42 is a composite number with prime factors [2, 3, 7]\n43 is a prime number\n44 is a composite number with prime factors [2, 11]\n45 is a composite number with prime factors [3, 5]\n46 is a composite number with prime factors [2, 23]\n47 is a prime number\n48 is a composite number with prime factors [2, 3]\n49 is a composite number with prime factors [7]\n50 is a composite number with prime factors [2, 5]\n"
     ]
    }
   ],
   "source": [
    "# exercise\n",
    "import sympy as sym\n",
    "from IPython.display import display,Math\n",
    "\n",
    "for num in range(2,51):\n",
    "    fact_dict = sym.factorint(num)\n",
    "    keys = list(fact_dict.keys())\n",
    "    values = list(fact_dict.values())\n",
    "    if len(keys) == 1 and values[0] == 1:\n",
    "        print(f'{num} is a prime number')\n",
    "    else:\n",
    "        print(f'{num} is a composite number with prime factors {keys}')"
   ]
  }
 ]
}