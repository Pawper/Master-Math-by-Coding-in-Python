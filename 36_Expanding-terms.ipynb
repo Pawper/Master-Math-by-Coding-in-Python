{
 "metadata": {
  "language_info": {
   "codemirror_mode": {
    "name": "ipython",
    "version": 3
   },
   "file_extension": ".py",
   "mimetype": "text/x-python",
   "name": "python",
   "nbconvert_exporter": "python",
   "pygments_lexer": "ipython3",
   "version": "3.8.5-final"
  },
  "orig_nbformat": 2,
  "kernelspec": {
   "name": "python3",
   "display_name": "Python 3",
   "language": "python"
  }
 },
 "nbformat": 4,
 "nbformat_minor": 2,
 "cells": [
  {
   "cell_type": "code",
   "execution_count": 1,
   "metadata": {},
   "outputs": [],
   "source": [
    "import sympy as sym\n",
    "from IPython.display import display,Math"
   ]
  },
  {
   "cell_type": "code",
   "execution_count": 8,
   "metadata": {},
   "outputs": [
    {
     "output_type": "stream",
     "name": "stdout",
     "text": [
      "x*(4*x + 5)\n"
     ]
    },
    {
     "output_type": "display_data",
     "data": {
      "text/plain": "x*(4*x + 5)",
      "text/latex": "$\\displaystyle x \\left(4 x + 5\\right)$"
     },
     "metadata": {}
    },
    {
     "output_type": "stream",
     "name": "stdout",
     "text": [
      "4*x**2 + 5*x\n"
     ]
    },
    {
     "output_type": "display_data",
     "data": {
      "text/plain": "4*x**2 + 5*x",
      "text/latex": "$\\displaystyle 4 x^{2} + 5 x$"
     },
     "metadata": {}
    }
   ],
   "source": [
    "# x = sym.symbols('x')\n",
    "from sympy.abc import x\n",
    "\n",
    "term1 = (4*x + 5)\n",
    "term2 = x\n",
    "\n",
    "print( term1*term2 )\n",
    "display( term1*term2 )\n",
    "print( sym.expand(term1*term2) )\n",
    "display( sym.expand(term1*term2) )"
   ]
  },
  {
   "cell_type": "code",
   "execution_count": 11,
   "metadata": {},
   "outputs": [
    {
     "output_type": "display_data",
     "data": {
      "text/plain": "<IPython.core.display.Math object>",
      "text/latex": "$\\displaystyle \\left(x - 7\\right) \\left(4 x + 5\\right)$"
     },
     "metadata": {}
    },
    {
     "output_type": "display_data",
     "data": {
      "text/plain": "<IPython.core.display.Math object>",
      "text/latex": "$\\displaystyle 4 x^{2} - 23 x - 35$"
     },
     "metadata": {}
    }
   ],
   "source": [
    "term3 = x-7\n",
    "\n",
    "display(Math(sym.latex(term1*term3)))\n",
    "display(Math(sym.latex(sym.expand(term1*term3))))\n"
   ]
  },
  {
   "cell_type": "code",
   "execution_count": 16,
   "metadata": {},
   "outputs": [
    {
     "output_type": "display_data",
     "data": {
      "text/plain": "<IPython.core.display.Math object>",
      "text/latex": "$\\displaystyle x \\left(- \\frac{5^{x}}{x} + 2 y^{2}\\right)$"
     },
     "metadata": {}
    },
    {
     "output_type": "display_data",
     "data": {
      "text/plain": "<IPython.core.display.Math object>",
      "text/latex": "$\\displaystyle - 5^{x} + 2 x y^{2}$"
     },
     "metadata": {}
    }
   ],
   "source": [
    "from sympy.abc import y\n",
    "\n",
    "expr = x*(2*y**2 - 5**x/x)\n",
    "display(Math(sym.latex(expr)))\n",
    "display(Math(sym.latex(sym.expand(expr))))"
   ]
  },
  {
   "cell_type": "code",
   "execution_count": 17,
   "metadata": {},
   "outputs": [
    {
     "output_type": "stream",
     "name": "stdout",
     "text": [
      "Variable   Type        Data/Info\n--------------------------------\nMath       type        <class 'IPython.core.display.Math'>\ndisplay    function    <function display at 0x000001E64450DDC0>\nexpr       Mul         x*(-5**x/x + 2*y**2)\nos         module      <module 'os' from 'C:\\\\Us<...>\\\\anaconda3\\\\lib\\\\os.py'>\nsym        module      <module 'sympy' from 'C:\\<...>ges\\\\sympy\\\\__init__.py'>\nsys        module      <module 'sys' (built-in)>\nterm1      Add         4*x + 5\nterm2      Symbol      x\nterm3      Add         x - 7\nx          Symbol      x\ny          Symbol      y\n"
     ]
    }
   ],
   "source": [
    "%whos"
   ]
  },
  {
   "cell_type": "code",
   "execution_count": 45,
   "metadata": {},
   "outputs": [
    {
     "output_type": "display_data",
     "data": {
      "text/plain": "<IPython.core.display.Math object>",
      "text/latex": "$\\displaystyle f(x,y)=(4+x)(2-y)$"
     },
     "metadata": {}
    },
    {
     "output_type": "display_data",
     "data": {
      "text/plain": "<IPython.core.display.Math object>",
      "text/latex": "$\\displaystyle \\text{When x=}0\\text{ and y=}0\\text{, }f(x,y)=8$"
     },
     "metadata": {}
    },
    {
     "output_type": "display_data",
     "data": {
      "text/plain": "<IPython.core.display.Math object>",
      "text/latex": "$\\displaystyle \\text{When x=}0\\text{ and y=}1\\text{, }f(x,y)=4$"
     },
     "metadata": {}
    },
    {
     "output_type": "display_data",
     "data": {
      "text/plain": "<IPython.core.display.Math object>",
      "text/latex": "$\\displaystyle \\text{When x=}0\\text{ and y=}2\\text{, }f(x,y)=0$"
     },
     "metadata": {}
    },
    {
     "output_type": "display_data",
     "data": {
      "text/plain": "<IPython.core.display.Math object>",
      "text/latex": "$\\displaystyle \\text{When x=}1\\text{ and y=}0\\text{, }f(x,y)=10$"
     },
     "metadata": {}
    },
    {
     "output_type": "display_data",
     "data": {
      "text/plain": "<IPython.core.display.Math object>",
      "text/latex": "$\\displaystyle \\text{When x=}1\\text{ and y=}1\\text{, }f(x,y)=5$"
     },
     "metadata": {}
    },
    {
     "output_type": "display_data",
     "data": {
      "text/plain": "<IPython.core.display.Math object>",
      "text/latex": "$\\displaystyle \\text{When x=}1\\text{ and y=}2\\text{, }f(x,y)=0$"
     },
     "metadata": {}
    },
    {
     "output_type": "display_data",
     "data": {
      "text/plain": "<IPython.core.display.Math object>",
      "text/latex": "$\\displaystyle \\text{When x=}2\\text{ and y=}0\\text{, }f(x,y)=12$"
     },
     "metadata": {}
    },
    {
     "output_type": "display_data",
     "data": {
      "text/plain": "<IPython.core.display.Math object>",
      "text/latex": "$\\displaystyle \\text{When x=}2\\text{ and y=}1\\text{, }f(x,y)=6$"
     },
     "metadata": {}
    },
    {
     "output_type": "display_data",
     "data": {
      "text/plain": "<IPython.core.display.Math object>",
      "text/latex": "$\\displaystyle \\text{When x=}2\\text{ and y=}2\\text{, }f(x,y)=0$"
     },
     "metadata": {}
    }
   ],
   "source": [
    "import sympy as sym\n",
    "from IPython.display import display,Math\n",
    "from sympy.abc import x,y\n",
    "\n",
    "expr = (4+x)*(2-y)\n",
    "display(Math('f(x,y)=(4+x)(2-y)'))\n",
    "\n",
    "def f(x_arg,y_arg):\n",
    "    evaluation = expr.subs({x:x_arg, y:y_arg})\n",
    "    display(Math('\\\\text{When x=}%g\\\\text{ and y=}%g\\\\text{, }f(x,y)=%g' %(x_arg,y_arg,evaluation)))\n",
    "\n",
    "for x_val in range(3):\n",
    "    for y_val in range(3):\n",
    "        f(x_val,y_val)"
   ]
  }
 ]
}