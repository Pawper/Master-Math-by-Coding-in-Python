{
 "metadata": {
  "language_info": {
   "codemirror_mode": {
    "name": "ipython",
    "version": 3
   },
   "file_extension": ".py",
   "mimetype": "text/x-python",
   "name": "python",
   "nbconvert_exporter": "python",
   "pygments_lexer": "ipython3",
   "version": "3.8.5-final"
  },
  "orig_nbformat": 2,
  "kernelspec": {
   "name": "python3",
   "display_name": "Python 3",
   "language": "python"
  }
 },
 "nbformat": 4,
 "nbformat_minor": 2,
 "cells": [
  {
   "cell_type": "code",
   "execution_count": 1,
   "metadata": {},
   "outputs": [],
   "source": [
    "import sympy as sym\n",
    "import numpy as np\n",
    "from IPython.display import display,Math"
   ]
  },
  {
   "cell_type": "code",
   "execution_count": 9,
   "metadata": {},
   "outputs": [
    {
     "output_type": "stream",
     "name": "stdout",
     "text": [
      "[[1 2]\n [3 4]]\n"
     ]
    },
    {
     "output_type": "display_data",
     "data": {
      "text/plain": "<IPython.core.display.Math object>",
      "text/latex": "$\\displaystyle \\left[\\begin{matrix}1 & 2\\\\3 & 4\\end{matrix}\\right]$"
     },
     "metadata": {}
    }
   ],
   "source": [
    "A = np.array([ [1,2],[3,4] ])\n",
    "\n",
    "print(A)\n",
    "display(Math(sym.latex(sym.sympify(A))))"
   ]
  },
  {
   "cell_type": "code",
   "execution_count": 16,
   "metadata": {},
   "outputs": [
    {
     "output_type": "execute_result",
     "data": {
      "text/plain": [
       "array([[0., 2., 0., 0., 0., 0.],\n",
       "       [0., 0., 0., 0., 0., 0.],\n",
       "       [0., 0., 0., 0., 7., 0.],\n",
       "       [0., 0., 0., 0., 0., 0.]])"
      ]
     },
     "metadata": {},
     "execution_count": 16
    }
   ],
   "source": [
    "mat = np.zeros([4,6])\n",
    "\n",
    "mat[0,1] = 2\n",
    "mat[2,4] = 7\n",
    "\n",
    "mat"
   ]
  },
  {
   "cell_type": "code",
   "execution_count": 18,
   "metadata": {},
   "outputs": [
    {
     "output_type": "execute_result",
     "data": {
      "text/plain": [
       "array([[ 1., -1.,  1., -1.,  0.,  0.],\n",
       "       [-1.,  1., -1.,  1.,  0.,  0.],\n",
       "       [ 1., -1.,  1., -1.,  7.,  0.],\n",
       "       [-1.,  1., -1.,  1.,  0.,  0.]])"
      ]
     },
     "metadata": {},
     "execution_count": 18
    }
   ],
   "source": [
    "numrange = range(0,4)\n",
    "\n",
    "for rowi in numrange:\n",
    "    for coli in numrange:\n",
    "        mat[rowi,coli] = (-1)**(rowi+coli)\n",
    "mat"
   ]
  },
  {
   "cell_type": "code",
   "execution_count": 41,
   "metadata": {},
   "outputs": [
    {
     "output_type": "display_data",
     "data": {
      "text/plain": "<IPython.core.display.Math object>",
      "text/latex": "$\\displaystyle f(x,y)=(4+x)(2-y)$"
     },
     "metadata": {}
    },
    {
     "output_type": "display_data",
     "data": {
      "text/plain": "<IPython.core.display.Math object>",
      "text/latex": "$\\displaystyle x,y\\in\\{0,1,2\\}$"
     },
     "metadata": {}
    },
    {
     "output_type": "display_data",
     "data": {
      "text/plain": "<IPython.core.display.Math object>",
      "text/latex": "$\\displaystyle \\left[\\begin{matrix}8.0 & 4.0 & 0\\\\10.0 & 5.0 & 0\\\\12.0 & 6.0 & 0\\end{matrix}\\right]$"
     },
     "metadata": {}
    }
   ],
   "source": [
    "import sympy as sym\n",
    "import numpy as np\n",
    "from IPython.display import display,Math\n",
    "from sympy.abc import x,y\n",
    "\n",
    "size = list(range(3))\n",
    "matrix = np.zeros([len(size),len(size)])\n",
    "\n",
    "expr = (4+x)*(2-y)\n",
    "display(Math('f(x,y)=(4+x)(2-y)'))\n",
    "display(Math('x,y\\\\in\\{%s\\}' %','.join([str(number) for number in size])))\n",
    "\n",
    "def f(x_arg,y_arg):\n",
    "    matrix[x_arg,y_arg] = expr.subs({x:x_arg, y:y_arg})\n",
    "\n",
    "for x_val in size:\n",
    "    for y_val in size:\n",
    "        f(x_val,y_val)\n",
    "\n",
    "display(Math(sym.latex(sym.simplify(matrix))))"
   ]
  }
 ]
}