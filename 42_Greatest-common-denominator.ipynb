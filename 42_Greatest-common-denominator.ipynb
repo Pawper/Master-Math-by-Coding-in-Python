{
 "metadata": {
  "language_info": {
   "codemirror_mode": {
    "name": "ipython",
    "version": 3
   },
   "file_extension": ".py",
   "mimetype": "text/x-python",
   "name": "python",
   "nbconvert_exporter": "python",
   "pygments_lexer": "ipython3",
   "version": "3.8.5-final"
  },
  "orig_nbformat": 2,
  "kernelspec": {
   "name": "python3",
   "display_name": "Python 3",
   "language": "python"
  }
 },
 "nbformat": 4,
 "nbformat_minor": 2,
 "cells": [
  {
   "cell_type": "code",
   "execution_count": 10,
   "metadata": {},
   "outputs": [
    {
     "output_type": "execute_result",
     "data": {
      "text/plain": [
       "4"
      ]
     },
     "metadata": {},
     "execution_count": 10
    }
   ],
   "source": [
    "# Greatest common denominator (gcd): The largest integer that divides into two numbers with no remainder.\n",
    "\n",
    "import math\n",
    "from IPython.display import display,Math\n",
    "\n",
    "math.gcd(4,16)"
   ]
  },
  {
   "cell_type": "code",
   "execution_count": 14,
   "metadata": {},
   "outputs": [
    {
     "output_type": "display_data",
     "data": {
      "text/plain": "<IPython.core.display.Math object>",
      "text/latex": "$\\displaystyle \\frac{16}{88} = \\frac{2 \\times 8}{11 \\times 8}$"
     },
     "metadata": {}
    }
   ],
   "source": [
    "# application\n",
    "\n",
    "a = 16\n",
    "b = 88\n",
    "\n",
    "fact = math.gcd(a,b)\n",
    "\n",
    "display(Math('\\\\frac{%g}{%g} = \\\\frac{%g \\\\times %g}{%g \\\\times %g}' %(a,b,a/fact,fact,b/fact,fact)))"
   ]
  },
  {
   "cell_type": "code",
   "execution_count": 34,
   "metadata": {},
   "outputs": [
    {
     "output_type": "display_data",
     "data": {
      "text/plain": "c",
      "text/latex": "$\\displaystyle c$"
     },
     "metadata": {}
    },
    {
     "output_type": "display_data",
     "data": {
      "text/plain": "c",
      "text/latex": "$\\displaystyle c$"
     },
     "metadata": {}
    },
    {
     "output_type": "display_data",
     "data": {
      "text/plain": "9",
      "text/latex": "$\\displaystyle 9$"
     },
     "metadata": {}
    },
    {
     "output_type": "display_data",
     "data": {
      "text/plain": "9",
      "text/latex": "$\\displaystyle 9$"
     },
     "metadata": {}
    }
   ],
   "source": [
    "# Exercise\n",
    "import sympy as sym\n",
    "import numpy as np\n",
    "import math\n",
    "from IPython.display import display,Math\n",
    "\n",
    "a,b,c = sym.symbols('a,b,c')\n",
    "\n",
    "expr1 = sym.gcd(c*a,c*b)\n",
    "expr2 = c * sym.gcd(a,b)\n",
    "display(expr1)\n",
    "display(expr2)\n",
    "\n",
    "a = 15\n",
    "b = 6\n",
    "c = 3\n",
    "\n",
    "expr1 = sym.gcd(c*a,c*b)\n",
    "expr2 = c * sym.gcd(a,b)\n",
    "display(expr1)\n",
    "display(expr2)"
   ]
  },
  {
   "cell_type": "code",
   "execution_count": 38,
   "metadata": {},
   "outputs": [
    {
     "output_type": "display_data",
     "data": {
      "text/plain": "<IPython.core.display.Math object>",
      "text/latex": "$\\displaystyle \\left[\\begin{array}1 & 1 & 1 & 1 & 1 & 1 & 1 & 1 & 1 & 1 & 1 & 1 & 1 & 1 & 1\\\\1 & 2 & 1 & 2 & 1 & 2 & 1 & 2 & 1 & 2 & 1 & 2 & 1 & 2 & 1\\\\1 & 1 & 3 & 1 & 1 & 3 & 1 & 1 & 3 & 1 & 1 & 3 & 1 & 1 & 3\\\\1 & 2 & 1 & 4 & 1 & 2 & 1 & 4 & 1 & 2 & 1 & 4 & 1 & 2 & 1\\\\1 & 1 & 1 & 1 & 5 & 1 & 1 & 1 & 1 & 5 & 1 & 1 & 1 & 1 & 5\\\\1 & 2 & 3 & 2 & 1 & 6 & 1 & 2 & 3 & 2 & 1 & 6 & 1 & 2 & 3\\\\1 & 1 & 1 & 1 & 1 & 1 & 7 & 1 & 1 & 1 & 1 & 1 & 1 & 7 & 1\\\\1 & 2 & 1 & 4 & 1 & 2 & 1 & 8 & 1 & 2 & 1 & 4 & 1 & 2 & 1\\\\1 & 1 & 3 & 1 & 1 & 3 & 1 & 1 & 9 & 1 & 1 & 3 & 1 & 1 & 3\\\\1 & 2 & 1 & 2 & 5 & 2 & 1 & 2 & 1 & 10 & 1 & 2 & 1 & 2 & 5\\end{array}\\right]$"
     },
     "metadata": {}
    }
   ],
   "source": [
    "# exercise 2\n",
    "rows = 10\n",
    "cols = 15\n",
    "matrix = np.zeros([rows, cols], int)+99 # initialize a matrix with whatever num you want this way\n",
    "\n",
    "for row in range(rows):\n",
    "    for col in range(cols):\n",
    "        matrix[row,col] = math.gcd(row+1, col+1)\n",
    "\n",
    "display(Math(sym.latex(sym.sympify(matrix))))"
   ]
  }
 ]
}