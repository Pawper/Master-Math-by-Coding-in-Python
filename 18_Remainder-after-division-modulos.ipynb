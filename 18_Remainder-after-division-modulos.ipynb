{
 "metadata": {
  "language_info": {
   "codemirror_mode": {
    "name": "ipython",
    "version": 3
   },
   "file_extension": ".py",
   "mimetype": "text/x-python",
   "name": "python",
   "nbconvert_exporter": "python",
   "pygments_lexer": "ipython3",
   "version": "3.8.5-final"
  },
  "orig_nbformat": 2,
  "kernelspec": {
   "name": "python3",
   "display_name": "Python 3",
   "language": "python"
  }
 },
 "nbformat": 4,
 "nbformat_minor": 2,
 "cells": [
  {
   "cell_type": "code",
   "execution_count": 2,
   "metadata": {},
   "outputs": [],
   "source": [
    "# remainder = modulo\n",
    "# 10 / 3 = 3 R1"
   ]
  },
  {
   "cell_type": "code",
   "execution_count": 6,
   "metadata": {},
   "outputs": [
    {
     "output_type": "stream",
     "name": "stdout",
     "text": [
      "3.3333333333333335\n3\n"
     ]
    }
   ],
   "source": [
    "a = 10\n",
    "b = 3\n",
    "\n",
    "# division\n",
    "print(a/b)\n",
    "# integer division\n",
    "print(int(a/b))"
   ]
  },
  {
   "cell_type": "code",
   "execution_count": 7,
   "metadata": {},
   "outputs": [
    {
     "output_type": "execute_result",
     "data": {
      "text/plain": [
       "1"
      ]
     },
     "metadata": {},
     "execution_count": 7
    }
   ],
   "source": [
    "a%b"
   ]
  },
  {
   "cell_type": "code",
   "execution_count": 12,
   "metadata": {},
   "outputs": [
    {
     "output_type": "stream",
     "name": "stdout",
     "text": [
      "36546 goes into 11654654, 318 times with a remainder of 33026.\n"
     ]
    }
   ],
   "source": [
    "a = 11654654\n",
    "b = 36546\n",
    "\n",
    "divis = int(a/b)\n",
    "remainder = a%b\n",
    "\n",
    "print(f'{b} goes into {a}, {divis} times with a remainder of {remainder}.')"
   ]
  },
  {
   "cell_type": "code",
   "execution_count": 24,
   "metadata": {},
   "outputs": [
    {
     "output_type": "stream",
     "name": "stdout",
     "text": [
      "-5 is an odd  number\n-4 is an even number\n-3 is an odd  number\n-2 is an even number\n-1 is an odd  number\n 0 is an even number\n 1 is an odd  number\n 2 is an even number\n 3 is an odd  number\n 4 is an even number\n 5 is an odd  number\n"
     ]
    }
   ],
   "source": [
    "for number in range(-5, 6):\n",
    "    print(' ', end = '') if number >= 0 else ''\n",
    "    print(f'{number} is an even number' if number % 2 == 0 else f'{number} is an odd  number')"
   ]
  },
  {
   "cell_type": "code",
   "execution_count": 29,
   "metadata": {},
   "outputs": [
    {
     "output_type": "stream",
     "name": "stdout",
     "text": [
      "-5 is an odd  number\n-4 is an even number\n-3 is an odd  number\n-2 is an even number\n-1 is an odd  number\n 0 is an even number\n 1 is an odd  number\n 2 is an even number\n 3 is an odd  number\n 4 is an even number\n 5 is an odd  number\n"
     ]
    }
   ],
   "source": [
    "nums = range(-5, 6)\n",
    "\n",
    "for i in nums:\n",
    "\n",
    "    firstchar = ' '\n",
    "    if i < 0:\n",
    "        firstchar = ''\n",
    "\n",
    "    # test and report\n",
    "    if i%2 == 0:\n",
    "        print('%s%g is an even number' %(firstchar,i))\n",
    "    else:\n",
    "        print('%s%g is an odd  number' %(firstchar,i))"
   ]
  }
 ]
}