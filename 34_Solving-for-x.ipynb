{
 "metadata": {
  "language_info": {
   "codemirror_mode": {
    "name": "ipython",
    "version": 3
   },
   "file_extension": ".py",
   "mimetype": "text/x-python",
   "name": "python",
   "nbconvert_exporter": "python",
   "pygments_lexer": "ipython3",
   "version": "3.8.5-final"
  },
  "orig_nbformat": 2,
  "kernelspec": {
   "name": "python3",
   "display_name": "Python 3",
   "language": "python"
  }
 },
 "nbformat": 4,
 "nbformat_minor": 2,
 "cells": [
  {
   "cell_type": "code",
   "execution_count": 1,
   "metadata": {},
   "outputs": [],
   "source": [
    "import sympy as sym\n",
    "from IPython.display import display, Math"
   ]
  },
  {
   "cell_type": "code",
   "execution_count": 5,
   "metadata": {},
   "outputs": [
    {
     "output_type": "execute_result",
     "data": {
      "text/plain": [
       "[5/2]"
      ]
     },
     "metadata": {},
     "execution_count": 5
    }
   ],
   "source": [
    "x = sym.symbols('x')\n",
    "\n",
    "expr = 2*x + 4 - 9\n",
    "sym.solve(expr) #sympy guesses that we want to solve for x. outputs a list"
   ]
  },
  {
   "cell_type": "code",
   "execution_count": 8,
   "metadata": {},
   "outputs": [
    {
     "output_type": "display_data",
     "data": {
      "text/plain": "<IPython.core.display.Math object>",
      "text/latex": "$\\displaystyle \\text{The solution to }2 x - 5\\text{ is }x=[5/2]$"
     },
     "metadata": {}
    }
   ],
   "source": [
    "# my attempt\n",
    "display(Math('\\\\text{The solution to }%s\\\\text{ is }x=%s' %(sym.latex(expr),sym.sympify(sym.solve(expr)))))"
   ]
  },
  {
   "cell_type": "code",
   "execution_count": 12,
   "metadata": {},
   "outputs": [
    {
     "output_type": "display_data",
     "data": {
      "text/plain": "<IPython.core.display.Math object>",
      "text/latex": "$\\displaystyle \\text{The solution is } 2 x - 5 \\text{ is x=} 2.5$"
     },
     "metadata": {}
    }
   ],
   "source": [
    "display(Math('\\\\text{The solution is } %s \\\\text{ is x=} %g' %(sym.latex(expr), sym.solve(expr)[0])))"
   ]
  },
  {
   "cell_type": "code",
   "execution_count": 22,
   "metadata": {},
   "outputs": [
    {
     "output_type": "stream",
     "name": "stdout",
     "text": [
      "Solution #1 is -2\nSolution #2 is 2\n"
     ]
    }
   ],
   "source": [
    "expr = x**2 -4\n",
    "sol = sym.solve(expr) # solutions are put into a list in case there are multiple solutions\n",
    "\n",
    "for i in range(len(sol)):\n",
    "    print('Solution #' + str(i+1) + ' is ' + str(sol[i]))"
   ]
  },
  {
   "cell_type": "code",
   "execution_count": 31,
   "metadata": {},
   "outputs": [
    {
     "output_type": "stream",
     "name": "stdout",
     "text": [
      "[20/(4*y - 1)]\n[(x + 20)/(4*x)]\n"
     ]
    }
   ],
   "source": [
    "y = sym.symbols('y')\n",
    "\n",
    "expr = x/4 - x*y + 5\n",
    "\n",
    "print(sym.solve(expr,x)) # tell sympy to solve for x\n",
    "print(sym.solve(expr,y)) # tell sympy to solve for y"
   ]
  },
  {
   "cell_type": "code",
   "execution_count": 73,
   "metadata": {},
   "outputs": [
    {
     "output_type": "display_data",
     "data": {
      "text/plain": "<IPython.core.display.Math object>",
      "text/latex": "$\\displaystyle 3 q + 3 + \\frac{4}{q} = 5 q + 1 + \\frac{1}{q}$"
     },
     "metadata": {}
    },
    {
     "output_type": "display_data",
     "data": {
      "text/plain": "<IPython.core.display.Math object>",
      "text/latex": "$\\displaystyle 3 q + 3 + \\frac{4}{q} - (5 q + 1 + \\frac{1}{q}) = 0$"
     },
     "metadata": {}
    },
    {
     "output_type": "display_data",
     "data": {
      "text/plain": "<IPython.core.display.Math object>",
      "text/latex": "$\\displaystyle - 2 q + 2 + \\frac{3}{q} = 0$"
     },
     "metadata": {}
    },
    {
     "output_type": "display_data",
     "data": {
      "text/plain": "<IPython.core.display.Math object>",
      "text/latex": "$\\displaystyle q=\\left[ \\frac{1}{2} - \\frac{\\sqrt{7}}{2}, \\  \\frac{1}{2} + \\frac{\\sqrt{7}}{2}\\right]$"
     },
     "metadata": {}
    }
   ],
   "source": [
    "# 1) my attempt\n",
    "q = sym.symbols('q')\n",
    "\n",
    "lhs = 3*q + 4/q + 3\n",
    "rhs = 5*q + 1/q + 1\n",
    "display(Math('%s = %s' %(sym.latex(lhs),sym.latex(rhs))))\n",
    "expr = lhs - rhs\n",
    "display(Math('%s - (%s) = 0' %(sym.latex(lhs),sym.latex(rhs))))\n",
    "display(Math('%s = 0' %sym.latex(expr)))\n",
    "display(Math('q=' + sym.latex(sym.solve(expr))))"
   ]
  },
  {
   "cell_type": "code",
   "execution_count": 74,
   "metadata": {},
   "outputs": [
    {
     "output_type": "display_data",
     "data": {
      "text/plain": "<IPython.core.display.Math object>",
      "text/latex": "$\\displaystyle - 2 q + 2 + \\frac{3}{q}$"
     },
     "metadata": {}
    },
    {
     "output_type": "display_data",
     "data": {
      "text/plain": "<IPython.core.display.Math object>",
      "text/latex": "$\\displaystyle q=\\left[ \\frac{1}{2} - \\frac{\\sqrt{7}}{2}, \\  \\frac{1}{2} + \\frac{\\sqrt{7}}{2}\\right]$"
     },
     "metadata": {}
    }
   ],
   "source": [
    "# 1) instructor solution\n",
    "q = sym.symbols('q')\n",
    "\n",
    "eq = 3*q + 4/q + 3 - 5*q - 1/q - 1\n",
    "\n",
    "display(Math(sym.latex(eq.simplify())))\n",
    "display(Math('q=' + sym.latex(sym.solve(eq,q))))"
   ]
  },
  {
   "cell_type": "code",
   "execution_count": 87,
   "metadata": {},
   "outputs": [
    {
     "output_type": "display_data",
     "data": {
      "text/plain": "<IPython.core.display.Math object>",
      "text/latex": "$\\displaystyle 3 q^{2} + 2 q - \\frac{5}{q} - \\frac{4}{q^{3}}$"
     },
     "metadata": {}
    },
    {
     "output_type": "display_data",
     "data": {
      "text/plain": "<IPython.core.display.Math object>",
      "text/latex": "$\\displaystyle 3 q^{2} + 2 q - \\frac{5}{q} - \\frac{4}{q^{3}}$"
     },
     "metadata": {}
    },
    {
     "output_type": "display_data",
     "data": {
      "text/plain": "<IPython.core.display.Math object>",
      "text/latex": "$\\displaystyle \\frac{3 q^{5} + 2 q^{4} - 5 q^{2} - 4}{q^{3}}$"
     },
     "metadata": {}
    }
   ],
   "source": [
    "# 2) my attempt\n",
    "q = sym.symbols('q')\n",
    "\n",
    "expr = 2*q + 3 * q**2 - 5/q - 4 / q ** 3 # PEMDAS - no need for parentheses\n",
    "display(Math(sym.latex(expr)))\n",
    "display(Math(sym.latex(expr.simplify())))\n",
    "display(Math(sym.latex(expr.cancel())))\n",
    "# display(Math('q=' + sym.latex(sym.solve(expr))))"
   ]
  },
  {
   "cell_type": "code",
   "execution_count": 88,
   "metadata": {},
   "outputs": [
    {
     "output_type": "display_data",
     "data": {
      "text/plain": "<IPython.core.display.Math object>",
      "text/latex": "$\\displaystyle 3 q^{2} + 2 q - \\frac{5}{q} - \\frac{4}{q^{3}}$"
     },
     "metadata": {}
    },
    {
     "output_type": "display_data",
     "data": {
      "text/plain": "<IPython.core.display.Math object>",
      "text/latex": "$\\displaystyle 3 q^{2} + 2 q - \\frac{5}{q} - \\frac{4}{q^{3}}$"
     },
     "metadata": {}
    },
    {
     "output_type": "display_data",
     "data": {
      "text/plain": "<IPython.core.display.Math object>",
      "text/latex": "$\\displaystyle \\frac{3 q^{5} + 2 q^{4} - 5 q^{2} - 4}{q^{3}}$"
     },
     "metadata": {}
    }
   ],
   "source": [
    "# 2)\n",
    "eq = 2*q + 3*q**2 - 5/q - 4/q**3 # PEMDAS\n",
    "\n",
    "display(Math(sym.latex(eq)))\n",
    "display(Math(sym.latex(sym.simplify(eq))))\n",
    "display(Math(sym.latex(sym.cancel(eq))))"
   ]
  },
  {
   "cell_type": "code",
   "execution_count": 150,
   "metadata": {},
   "outputs": [
    {
     "output_type": "display_data",
     "data": {
      "text/plain": "<IPython.core.display.Math object>",
      "text/latex": "$\\displaystyle \\frac{\\sqrt{15} q + \\sqrt{3}}{\\sqrt{10} q + \\sqrt{2}}$"
     },
     "metadata": {}
    },
    {
     "output_type": "display_data",
     "data": {
      "text/plain": "<IPython.core.display.Math object>",
      "text/latex": "$\\displaystyle \\frac{\\sqrt{6}}{2}$"
     },
     "metadata": {}
    },
    {
     "output_type": "stream",
     "name": "stdout",
     "text": [
      "\n"
     ]
    },
    {
     "output_type": "display_data",
     "data": {
      "text/plain": "<IPython.core.display.Math object>",
      "text/latex": "$\\displaystyle \\frac{\\sqrt{3}+\\sqrt{15}q}{\\sqrt{2}+\\sqrt{10}q}$"
     },
     "metadata": {}
    },
    {
     "output_type": "display_data",
     "data": {
      "text/plain": "<IPython.core.display.Math object>",
      "text/latex": "$\\displaystyle \\text{When you have to simplify square roots of numbers that are not perfect squares,}$"
     },
     "metadata": {}
    },
    {
     "output_type": "display_data",
     "data": {
      "text/plain": "<IPython.core.display.Math object>",
      "text/latex": "$\\displaystyle \\text{split the root into factors that are perfect squares or create like terms:}$"
     },
     "metadata": {}
    },
    {
     "output_type": "display_data",
     "data": {
      "text/plain": "<IPython.core.display.Math object>",
      "text/latex": "$\\displaystyle \\frac{\\sqrt{3}+\\sqrt{3}\\sqrt{5}q}{\\sqrt{2}+\\sqrt{2}\\sqrt{5}q}$"
     },
     "metadata": {}
    },
    {
     "output_type": "display_data",
     "data": {
      "text/plain": "<IPython.core.display.Math object>",
      "text/latex": "$\\displaystyle \\text{That gave us like terms } \\sqrt{3} \\text{ and } \\sqrt{2} \\text{ that we can factor out, adding their coefficients:}$"
     },
     "metadata": {}
    },
    {
     "output_type": "display_data",
     "data": {
      "text/plain": "<IPython.core.display.Math object>",
      "text/latex": "$\\displaystyle \\frac{\\sqrt{3}(1+\\sqrt{5}q)}{\\sqrt{2}(1+\\sqrt{5}q)}$"
     },
     "metadata": {}
    },
    {
     "output_type": "display_data",
     "data": {
      "text/plain": "<IPython.core.display.Math object>",
      "text/latex": "$\\displaystyle \\text{Since }(1+\\sqrt{5}q)\\text{ is in the numerator and the denominator, it cancels out:}$"
     },
     "metadata": {}
    },
    {
     "output_type": "display_data",
     "data": {
      "text/plain": "<IPython.core.display.Math object>",
      "text/latex": "$\\displaystyle \\frac{\\sqrt{3}}{\\sqrt{2}}$"
     },
     "metadata": {}
    },
    {
     "output_type": "display_data",
     "data": {
      "text/plain": "<IPython.core.display.Math object>",
      "text/latex": "$\\displaystyle \\text{If you're averse to radicals in the denominator, multiply the numerator and denominator by }\\sqrt{2}:$"
     },
     "metadata": {}
    },
    {
     "output_type": "display_data",
     "data": {
      "text/plain": "<IPython.core.display.Math object>",
      "text/latex": "$\\displaystyle \\frac{\\sqrt{3}\\sqrt{2}}{\\sqrt{2}\\sqrt{2}}=\\frac{\\sqrt{6}}{2}$"
     },
     "metadata": {}
    }
   ],
   "source": [
    "# 3) my solution\n",
    "expr = (sym.sqrt(3) + sym.sqrt(15) * q)/(sym.sqrt(2) + sym.sqrt(10) * q)\n",
    "\n",
    "display(Math(sym.latex(expr)))\n",
    "display(Math(sym.latex(sym.simplify(expr))))\n",
    "print()\n",
    "# display(Math('q=5:'))\n",
    "# display(Math(sym.latex(expr.subs(q, 5))))\n",
    "# display(Math(sym.latex(expr.subs(q, 5).evalf())))\n",
    "# print()\n",
    "display(Math('\\\\frac{\\\\sqrt{3}+\\\\sqrt{15}q}{\\\\sqrt{2}+\\\\sqrt{10}q}'))\n",
    "display(Math('\\\\text{When you have to simplify square roots of numbers that are not perfect squares,}'))\n",
    "display(Math('\\\\text{split the root into factors that are perfect squares or create like terms:}'))\n",
    "display(Math('\\\\frac{\\\\sqrt{3}+\\\\sqrt{3}\\\\sqrt{5}q}{\\\\sqrt{2}+\\\\sqrt{2}\\\\sqrt{5}q}'))\n",
    "display(Math('\\\\text{That gave us like terms } \\\\sqrt{3} \\\\text{ and } \\\\sqrt{2} \\\\text{ that we can factor out, adding their coefficients:}'))\n",
    "display(Math('\\\\frac{\\\\sqrt{3}(1+\\\\sqrt{5}q)}{\\\\sqrt{2}(1+\\\\sqrt{5}q)}'))\n",
    "display(Math('\\\\text{Since }(1+\\\\sqrt{5}q)\\\\text{ is in the numerator and the denominator, it cancels out:}'))\n",
    "display(Math('\\\\frac{\\\\sqrt{3}}{\\\\sqrt{2}}'))\n",
    "display(Math(\"\\\\text{If you're averse to radicals in the denominator, multiply the numerator and denominator by }\\\\sqrt{2}:\"))\n",
    "display(Math('\\\\frac{\\\\sqrt{3}\\\\sqrt{2}}{\\\\sqrt{2}\\\\sqrt{2}}=\\\\frac{\\\\sqrt{6}}{2}'))"
   ]
  },
  {
   "cell_type": "code",
   "execution_count": 107,
   "metadata": {},
   "outputs": [
    {
     "output_type": "display_data",
     "data": {
      "text/plain": "<IPython.core.display.Math object>",
      "text/latex": "$\\displaystyle \\frac{\\sqrt{15} q + \\sqrt{3}}{\\sqrt{10} q + \\sqrt{2}}$"
     },
     "metadata": {}
    },
    {
     "output_type": "display_data",
     "data": {
      "text/plain": "<IPython.core.display.Math object>",
      "text/latex": "$\\displaystyle \\frac{\\sqrt{6}}{2}$"
     },
     "metadata": {}
    },
    {
     "output_type": "display_data",
     "data": {
      "text/plain": "<IPython.core.display.Math object>",
      "text/latex": "$\\displaystyle 1.22474487139159$"
     },
     "metadata": {}
    }
   ],
   "source": [
    "# 3)\n",
    "expr = (sym.sqrt(3) + sym.sqrt(15)*q) / (sym.sqrt(2) + sym.sqrt(10)*q)\n",
    "display(Math(sym.latex(expr)))\n",
    "display(Math(sym.latex(sym.simplify(expr))))\n",
    "display(Math(sym.latex(expr.subs(q,-83).evalf())))"
   ]
  }
 ]
}