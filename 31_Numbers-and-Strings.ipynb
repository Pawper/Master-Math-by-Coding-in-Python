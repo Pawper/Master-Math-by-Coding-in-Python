{
 "metadata": {
  "language_info": {
   "codemirror_mode": {
    "name": "ipython",
    "version": 3
   },
   "file_extension": ".py",
   "mimetype": "text/x-python",
   "name": "python",
   "nbconvert_exporter": "python",
   "pygments_lexer": "ipython3",
   "version": "3.8.5-final"
  },
  "orig_nbformat": 2,
  "kernelspec": {
   "name": "python3",
   "display_name": "Python 3",
   "language": "python"
  }
 },
 "nbformat": 4,
 "nbformat_minor": 2,
 "cells": [
  {
   "cell_type": "code",
   "execution_count": 1,
   "metadata": {},
   "outputs": [],
   "source": [
    "import numpy as np"
   ]
  },
  {
   "cell_type": "code",
   "execution_count": 3,
   "metadata": {},
   "outputs": [
    {
     "output_type": "stream",
     "name": "stdout",
     "text": [
      "7 7.0\n"
     ]
    }
   ],
   "source": [
    "# data types\n",
    "\n",
    "# ints vs. floats\n",
    "c = 7\n",
    "d = 7.0\n",
    "\n",
    "print(c,d)"
   ]
  },
  {
   "cell_type": "code",
   "execution_count": 4,
   "metadata": {},
   "outputs": [
    {
     "output_type": "stream",
     "name": "stdout",
     "text": [
      "<class 'int'>\n<class 'float'>\n"
     ]
    }
   ],
   "source": [
    "print( type(c) )\n",
    "print( type(d) )"
   ]
  },
  {
   "cell_type": "code",
   "execution_count": 7,
   "metadata": {},
   "outputs": [
    {
     "output_type": "stream",
     "name": "stdout",
     "text": [
      "0\n1\n2\n3\n4\n5\n6\n"
     ]
    }
   ],
   "source": [
    "for i in range(c):\n",
    "    print(i)"
   ]
  },
  {
   "cell_type": "code",
   "execution_count": 8,
   "metadata": {},
   "outputs": [
    {
     "output_type": "execute_result",
     "data": {
      "text/plain": [
       "14.0"
      ]
     },
     "metadata": {},
     "execution_count": 8
    }
   ],
   "source": [
    "c+d"
   ]
  },
  {
   "cell_type": "code",
   "execution_count": 13,
   "metadata": {},
   "outputs": [
    {
     "output_type": "execute_result",
     "data": {
      "text/plain": [
       "'Mike Cohen'"
      ]
     },
     "metadata": {},
     "execution_count": 13
    }
   ],
   "source": [
    "firstName = 'Mike'\n",
    "lastName = 'Cohen'\n",
    "\n",
    "firstName + ' ' + lastName # overloading"
   ]
  },
  {
   "cell_type": "code",
   "execution_count": 14,
   "metadata": {},
   "outputs": [
    {
     "output_type": "execute_result",
     "data": {
      "text/plain": [
       "'MikeMikeMike'"
      ]
     },
     "metadata": {},
     "execution_count": 14
    }
   ],
   "source": [
    "firstName * 3"
   ]
  },
  {
   "cell_type": "code",
   "execution_count": 15,
   "metadata": {},
   "outputs": [
    {
     "output_type": "stream",
     "name": "stdout",
     "text": [
      "Variable    Type      Data/Info\n-------------------------------\nc           int       7\nd           float     7.0\nfirstName   str       Mike\ni           int       6\nlastName    str       Cohen\nnp          module    <module 'numpy' from 'C:\\<...>ges\\\\numpy\\\\__init__.py'>\nos          module    <module 'os' from 'C:\\\\Us<...>\\\\anaconda3\\\\lib\\\\os.py'>\nsys         module    <module 'sys' (built-in)>\n"
     ]
    }
   ],
   "source": [
    "%whos"
   ]
  },
  {
   "cell_type": "code",
   "execution_count": 24,
   "metadata": {},
   "outputs": [
    {
     "output_type": "stream",
     "name": "stdout",
     "text": [
      "4\n4\n4.0\n4.7\n5\n5.8\n"
     ]
    }
   ],
   "source": [
    "# Exercises!\n",
    "\n",
    "# convert across datatypes\n",
    "s1 = '4'\n",
    "s2 = '4.7'\n",
    "n1 = 5\n",
    "n2 = 5.8\n",
    "\n",
    "# convert the strings to integers\n",
    "i1 = int(s1)\n",
    "print(i1)\n",
    "i2 = int((float(s2)))\n",
    "print(i2)\n",
    "\n",
    "# convert the strings to floats\n",
    "f1 = float(s1)\n",
    "print(f1)\n",
    "f2 = float(s2)\n",
    "print(f2)\n",
    "\n",
    "# convert the numbers into strings\n",
    "s3 = str(n1)\n",
    "print(s3)\n",
    "s4 = str(n2)\n",
    "print(s4)"
   ]
  }
 ]
}