{
 "metadata": {
  "language_info": {
   "codemirror_mode": {
    "name": "ipython",
    "version": 3
   },
   "file_extension": ".py",
   "mimetype": "text/x-python",
   "name": "python",
   "nbconvert_exporter": "python",
   "pygments_lexer": "ipython3",
   "version": "3.8.5-final"
  },
  "orig_nbformat": 2,
  "kernelspec": {
   "name": "python3",
   "display_name": "Python 3",
   "language": "python"
  }
 },
 "nbformat": 4,
 "nbformat_minor": 2,
 "cells": [
  {
   "cell_type": "code",
   "execution_count": 13,
   "metadata": {},
   "outputs": [
    {
     "output_type": "stream",
     "name": "stdout",
     "text": [
      "<class 'list'>\n"
     ]
    }
   ],
   "source": [
    "lst = [1,3,6,7,4,5,6,1,3,5,6,4,0]\n",
    "\n",
    "print(type(lst))"
   ]
  },
  {
   "cell_type": "code",
   "execution_count": 4,
   "metadata": {},
   "outputs": [
    {
     "output_type": "execute_result",
     "data": {
      "text/plain": [
       "1"
      ]
     },
     "metadata": {},
     "execution_count": 4
    }
   ],
   "source": [
    "lst[0] # 0-based"
   ]
  },
  {
   "cell_type": "code",
   "execution_count": 8,
   "metadata": {},
   "outputs": [
    {
     "output_type": "execute_result",
     "data": {
      "text/plain": [
       "7"
      ]
     },
     "metadata": {},
     "execution_count": 8
    }
   ],
   "source": [
    "lst[-1] # negative starts at end"
   ]
  },
  {
   "cell_type": "code",
   "execution_count": 10,
   "metadata": {},
   "outputs": [
    {
     "output_type": "execute_result",
     "data": {
      "text/plain": [
       "[1, 3]"
      ]
     },
     "metadata": {},
     "execution_count": 10
    }
   ],
   "source": [
    "# slicing to print out the first N elements\n",
    "N = 2\n",
    "lst[:N]"
   ]
  },
  {
   "cell_type": "code",
   "execution_count": 12,
   "metadata": {},
   "outputs": [
    {
     "output_type": "execute_result",
     "data": {
      "text/plain": [
       "[6, 7]"
      ]
     },
     "metadata": {},
     "execution_count": 12
    }
   ],
   "source": [
    "# print out the final K elements\n",
    "K = 2\n",
    "lst[-K:]"
   ]
  },
  {
   "cell_type": "code",
   "execution_count": 15,
   "metadata": {},
   "outputs": [
    {
     "output_type": "stream",
     "name": "stdout",
     "text": [
      "[1, 3, 6, 7, 4, 5, 6, 1, 3, 5, 6, 4, 0]\n"
     ]
    },
    {
     "output_type": "execute_result",
     "data": {
      "text/plain": [
       "[7, 4, 5, 6]"
      ]
     },
     "metadata": {},
     "execution_count": 15
    }
   ],
   "source": [
    "n = 3\n",
    "k = 7\n",
    "\n",
    "print(lst)\n",
    "lst[n:k]"
   ]
  },
  {
   "cell_type": "code",
   "execution_count": 19,
   "metadata": {},
   "outputs": [
    {
     "output_type": "stream",
     "name": "stdout",
     "text": [
      "hello\nmy\nname\nis\nMike\n"
     ]
    }
   ],
   "source": [
    "words = ['hello', 'my', 'name', 'is', 'Mike']\n",
    "\n",
    "for i in range(0,len(words)):\n",
    "    print(words[i])"
   ]
  },
  {
   "cell_type": "code",
   "execution_count": 21,
   "metadata": {},
   "outputs": [
    {
     "output_type": "stream",
     "name": "stdout",
     "text": [
      "1\n2\ncookies\n[6, 4]\n"
     ]
    }
   ],
   "source": [
    "alist = [1,2,'cookies',[6,4]]\n",
    "\n",
    "for i in alist:\n",
    "    print(i)"
   ]
  },
  {
   "cell_type": "code",
   "execution_count": 22,
   "metadata": {},
   "outputs": [
    {
     "output_type": "execute_result",
     "data": {
      "text/plain": [
       "6"
      ]
     },
     "metadata": {},
     "execution_count": 22
    }
   ],
   "source": [
    "alist[-1][0]"
   ]
  },
  {
   "cell_type": "code",
   "execution_count": 54,
   "metadata": {},
   "outputs": [
    {
     "output_type": "display_data",
     "data": {
      "text/plain": "<IPython.core.display.Math object>",
      "text/latex": "$\\displaystyle e_1 = x \\left(4 - 6 x\\right) + 3 x \\quad \\Longleftrightarrow \\quad - 6 x^{2} + 7 x$"
     },
     "metadata": {}
    },
    {
     "output_type": "display_data",
     "data": {
      "text/plain": "<IPython.core.display.Math object>",
      "text/latex": "$\\displaystyle e_2 = - x \\left(\\frac{2}{x} + \\frac{4}{x^{2}}\\right) + \\frac{x + 4}{4 x} \\quad \\Longleftrightarrow \\quad - \\frac{7}{4} - \\frac{3}{x}$"
     },
     "metadata": {}
    },
    {
     "output_type": "display_data",
     "data": {
      "text/plain": "<IPython.core.display.Math object>",
      "text/latex": "$\\displaystyle e_3 = \\frac{\\left(x - 3\\right) \\left(x + 3\\right)}{9} \\quad \\Longleftrightarrow \\quad \\frac{x^{2}}{9} - 1$"
     },
     "metadata": {}
    }
   ],
   "source": [
    "import sympy as sym\n",
    "import numpy as np\n",
    "from IPython.display import display, Math\n",
    "x = sym.symbols('x')\n",
    "\n",
    "e1 = 2*x + x*(4 - 6*x) + x\n",
    "e2 = -x*(2/x + 4/x**2) + (4+x)/(4*x)\n",
    "e3 = (x+3) * (x-3) * x * (1/(9 * x))\n",
    "e = [e1, e2, e3]\n",
    "\n",
    "for i in range(len(e)):\n",
    "    display(Math('e_%g = %s \\\\quad \\\\Longleftrightarrow \\\\quad %s' %(i + 1, sym.latex(e[i]), sym.latex(sym.expand(e[i])))))"
   ]
  }
 ]
}